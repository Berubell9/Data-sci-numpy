{
 "metadata": {
  "language_info": {
   "codemirror_mode": {
    "name": "ipython",
    "version": 3
   },
   "file_extension": ".py",
   "mimetype": "text/x-python",
   "name": "python",
   "nbconvert_exporter": "python",
   "pygments_lexer": "ipython3",
   "version": "3.9.5"
  },
  "orig_nbformat": 4,
  "kernelspec": {
   "name": "python3",
   "display_name": "Python 3.9.5 64-bit"
  },
  "interpreter": {
   "hash": "be0d47e84fc7e33404042284385234951e1b0faf579e24fe77c71b4cdf8dd2cc"
  }
 },
 "nbformat": 4,
 "nbformat_minor": 2,
 "cells": [
  {
   "cell_type": "code",
   "execution_count": 12,
   "metadata": {},
   "outputs": [
    {
     "output_type": "stream",
     "name": "stdout",
     "text": [
      "[1 2 3 4 5 6]\n"
     ]
    }
   ],
   "source": [
    "import numpy as np\n",
    "a = np.array([1,2,3])\n",
    "b = np.array([4,5,6])\n",
    "array = np.concatenate((a,b)) #เชื่อม array\n",
    "print(array)"
   ]
  },
  {
   "cell_type": "code",
   "execution_count": 20,
   "metadata": {},
   "outputs": [
    {
     "output_type": "stream",
     "name": "stdout",
     "text": [
      "[array([1]), array([2]), array([3])]\n---------------------------------------------\n[array([1, 2]), array([3, 4]), array([5, 6])]\n---------------------------------------------------------------\n[array([1, 2]), array([3]), array([4]), array([5]), array([6])]\n"
     ]
    }
   ],
   "source": [
    "import numpy as np\n",
    "a = np.array([1,2,3])\n",
    "array1 = np.array_split(a,3) #กระจาย array ให้ครบ 3 วงเล็บ\n",
    "print(array1)\n",
    "print(\"---------------------------------------------\")\n",
    "import numpy as np\n",
    "a = np.array([1,2,3,4,5,6])\n",
    "array2 = np.array_split(a,3) #กระจาย array ให้ครบ 3 วงเล็บ\n",
    "print(array2)\n",
    "print(\"---------------------------------------------------------------\")\n",
    "import numpy as np\n",
    "a = np.array([1,2,3,4,5,6])\n",
    "array3 = np.array_split(a,5) #กระจาย array ให้ครบ 5 วงเล็บ\n",
    "print(array3)"
   ]
  },
  {
   "cell_type": "code",
   "execution_count": null,
   "metadata": {},
   "outputs": [],
   "source": []
  }
 ]
}